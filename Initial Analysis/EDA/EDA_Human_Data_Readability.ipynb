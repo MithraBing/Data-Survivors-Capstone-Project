{
  "nbformat": 4,
  "nbformat_minor": 0,
  "metadata": {
    "colab": {
      "provenance": []
    },
    "kernelspec": {
      "name": "python3",
      "display_name": "Python 3"
    },
    "language_info": {
      "name": "python"
    }
  },
  "cells": [
    {
      "cell_type": "markdown",
      "source": [
        "Legal documents can be complex. They are extremely verbose and tedious enough to read through. Since in our context our focus lies on evaluating AI generated documents, we must make sure to ensure the following criteria are met:\n",
        "\n",
        "1.\tClarity\n",
        "2.\tCompliance\n",
        "3.\tConsistency\n",
        "4.\tUsability\n",
        "\n",
        "The above are the main categories that ensure a legal document is credible to be used in the court of law. Just as numerical data has descriptive statistics to define its quality, text data also has the following textual statistics that are necessary to get better insights into the data we have\n"
      ],
      "metadata": {
        "id": "7NadIBdlWU31"
      }
    },
    {
      "cell_type": "markdown",
      "source": [
        "**Readability Index:**\n",
        "It is a way to measure how a person can percieve, understand, comprehend the given data. It is a way to ensure the legibility of a document. The readability index in human-generated data, especially in legal documents, is a vital tool for clarity, compliance, accessibility, and global communication"
      ],
      "metadata": {
        "id": "eW2utgQ9LggS"
      }
    },
    {
      "cell_type": "code",
      "execution_count": null,
      "metadata": {
        "id": "Se_gyWfya4KZ"
      },
      "outputs": [],
      "source": [
        "import pandas as pd\n",
        "import json\n",
        "with open('label_0_human_new.json') as f:\n",
        "    data = json.load(f)"
      ]
    },
    {
      "cell_type": "code",
      "source": [
        "df1 = pd.DataFrame(data)\n",
        "df1 = df1.rename(columns={0: \"file\"})\n"
      ],
      "metadata": {
        "id": "Qw4PFNGFbIcS"
      },
      "execution_count": null,
      "outputs": []
    },
    {
      "cell_type": "code",
      "source": [
        "df1"
      ],
      "metadata": {
        "colab": {
          "base_uri": "https://localhost:8080/",
          "height": 423
        },
        "id": "DKEdfI2ZbK2Y",
        "outputId": "5f9f95d8-6007-4381-e277-586ca59121df"
      },
      "execution_count": null,
      "outputs": [
        {
          "output_type": "execute_result",
          "data": {
            "text/plain": [
              "                                                  file  label\n",
              "0    DLD-054                                       ...      0\n",
              "1                                                           0\n",
              "2                                                           0\n",
              "3                                2024 IL App (3d) 2...      0\n",
              "4             FIRST DISTRICT COURT OF APPEAL\\n     ...      0\n",
              "..                                                 ...    ...\n",
              "395                     EN EL TRIBUNAL SUPREMO DE P...      0\n",
              "396                        EN EL TRIBUNAL SUPREMO D...      0\n",
              "397                   EN EL TRIBUNAL SUPREMO DE PUE...      0\n",
              "398                    THE SUPREME COURT, STATE OF ...      0\n",
              "399                  IN THE SUPREME COURT, STATE OF...      0\n",
              "\n",
              "[400 rows x 2 columns]"
            ],
            "text/html": [
              "\n",
              "  <div id=\"df-dc3010b4-b42f-44a4-90d2-a368b9a55f18\" class=\"colab-df-container\">\n",
              "    <div>\n",
              "<style scoped>\n",
              "    .dataframe tbody tr th:only-of-type {\n",
              "        vertical-align: middle;\n",
              "    }\n",
              "\n",
              "    .dataframe tbody tr th {\n",
              "        vertical-align: top;\n",
              "    }\n",
              "\n",
              "    .dataframe thead th {\n",
              "        text-align: right;\n",
              "    }\n",
              "</style>\n",
              "<table border=\"1\" class=\"dataframe\">\n",
              "  <thead>\n",
              "    <tr style=\"text-align: right;\">\n",
              "      <th></th>\n",
              "      <th>file</th>\n",
              "      <th>label</th>\n",
              "    </tr>\n",
              "  </thead>\n",
              "  <tbody>\n",
              "    <tr>\n",
              "      <th>0</th>\n",
              "      <td>DLD-054                                       ...</td>\n",
              "      <td>0</td>\n",
              "    </tr>\n",
              "    <tr>\n",
              "      <th>1</th>\n",
              "      <td></td>\n",
              "      <td>0</td>\n",
              "    </tr>\n",
              "    <tr>\n",
              "      <th>2</th>\n",
              "      <td></td>\n",
              "      <td>0</td>\n",
              "    </tr>\n",
              "    <tr>\n",
              "      <th>3</th>\n",
              "      <td>2024 IL App (3d) 2...</td>\n",
              "      <td>0</td>\n",
              "    </tr>\n",
              "    <tr>\n",
              "      <th>4</th>\n",
              "      <td>FIRST DISTRICT COURT OF APPEAL\\n     ...</td>\n",
              "      <td>0</td>\n",
              "    </tr>\n",
              "    <tr>\n",
              "      <th>...</th>\n",
              "      <td>...</td>\n",
              "      <td>...</td>\n",
              "    </tr>\n",
              "    <tr>\n",
              "      <th>395</th>\n",
              "      <td>EN EL TRIBUNAL SUPREMO DE P...</td>\n",
              "      <td>0</td>\n",
              "    </tr>\n",
              "    <tr>\n",
              "      <th>396</th>\n",
              "      <td>EN EL TRIBUNAL SUPREMO D...</td>\n",
              "      <td>0</td>\n",
              "    </tr>\n",
              "    <tr>\n",
              "      <th>397</th>\n",
              "      <td>EN EL TRIBUNAL SUPREMO DE PUE...</td>\n",
              "      <td>0</td>\n",
              "    </tr>\n",
              "    <tr>\n",
              "      <th>398</th>\n",
              "      <td>THE SUPREME COURT, STATE OF ...</td>\n",
              "      <td>0</td>\n",
              "    </tr>\n",
              "    <tr>\n",
              "      <th>399</th>\n",
              "      <td>IN THE SUPREME COURT, STATE OF...</td>\n",
              "      <td>0</td>\n",
              "    </tr>\n",
              "  </tbody>\n",
              "</table>\n",
              "<p>400 rows × 2 columns</p>\n",
              "</div>\n",
              "    <div class=\"colab-df-buttons\">\n",
              "\n",
              "  <div class=\"colab-df-container\">\n",
              "    <button class=\"colab-df-convert\" onclick=\"convertToInteractive('df-dc3010b4-b42f-44a4-90d2-a368b9a55f18')\"\n",
              "            title=\"Convert this dataframe to an interactive table.\"\n",
              "            style=\"display:none;\">\n",
              "\n",
              "  <svg xmlns=\"http://www.w3.org/2000/svg\" height=\"24px\" viewBox=\"0 -960 960 960\">\n",
              "    <path d=\"M120-120v-720h720v720H120Zm60-500h600v-160H180v160Zm220 220h160v-160H400v160Zm0 220h160v-160H400v160ZM180-400h160v-160H180v160Zm440 0h160v-160H620v160ZM180-180h160v-160H180v160Zm440 0h160v-160H620v160Z\"/>\n",
              "  </svg>\n",
              "    </button>\n",
              "\n",
              "  <style>\n",
              "    .colab-df-container {\n",
              "      display:flex;\n",
              "      gap: 12px;\n",
              "    }\n",
              "\n",
              "    .colab-df-convert {\n",
              "      background-color: #E8F0FE;\n",
              "      border: none;\n",
              "      border-radius: 50%;\n",
              "      cursor: pointer;\n",
              "      display: none;\n",
              "      fill: #1967D2;\n",
              "      height: 32px;\n",
              "      padding: 0 0 0 0;\n",
              "      width: 32px;\n",
              "    }\n",
              "\n",
              "    .colab-df-convert:hover {\n",
              "      background-color: #E2EBFA;\n",
              "      box-shadow: 0px 1px 2px rgba(60, 64, 67, 0.3), 0px 1px 3px 1px rgba(60, 64, 67, 0.15);\n",
              "      fill: #174EA6;\n",
              "    }\n",
              "\n",
              "    .colab-df-buttons div {\n",
              "      margin-bottom: 4px;\n",
              "    }\n",
              "\n",
              "    [theme=dark] .colab-df-convert {\n",
              "      background-color: #3B4455;\n",
              "      fill: #D2E3FC;\n",
              "    }\n",
              "\n",
              "    [theme=dark] .colab-df-convert:hover {\n",
              "      background-color: #434B5C;\n",
              "      box-shadow: 0px 1px 3px 1px rgba(0, 0, 0, 0.15);\n",
              "      filter: drop-shadow(0px 1px 2px rgba(0, 0, 0, 0.3));\n",
              "      fill: #FFFFFF;\n",
              "    }\n",
              "  </style>\n",
              "\n",
              "    <script>\n",
              "      const buttonEl =\n",
              "        document.querySelector('#df-dc3010b4-b42f-44a4-90d2-a368b9a55f18 button.colab-df-convert');\n",
              "      buttonEl.style.display =\n",
              "        google.colab.kernel.accessAllowed ? 'block' : 'none';\n",
              "\n",
              "      async function convertToInteractive(key) {\n",
              "        const element = document.querySelector('#df-dc3010b4-b42f-44a4-90d2-a368b9a55f18');\n",
              "        const dataTable =\n",
              "          await google.colab.kernel.invokeFunction('convertToInteractive',\n",
              "                                                    [key], {});\n",
              "        if (!dataTable) return;\n",
              "\n",
              "        const docLinkHtml = 'Like what you see? Visit the ' +\n",
              "          '<a target=\"_blank\" href=https://colab.research.google.com/notebooks/data_table.ipynb>data table notebook</a>'\n",
              "          + ' to learn more about interactive tables.';\n",
              "        element.innerHTML = '';\n",
              "        dataTable['output_type'] = 'display_data';\n",
              "        await google.colab.output.renderOutput(dataTable, element);\n",
              "        const docLink = document.createElement('div');\n",
              "        docLink.innerHTML = docLinkHtml;\n",
              "        element.appendChild(docLink);\n",
              "      }\n",
              "    </script>\n",
              "  </div>\n",
              "\n",
              "\n",
              "<div id=\"df-574fd85a-99f6-427c-8b80-9b2d575350eb\">\n",
              "  <button class=\"colab-df-quickchart\" onclick=\"quickchart('df-574fd85a-99f6-427c-8b80-9b2d575350eb')\"\n",
              "            title=\"Suggest charts\"\n",
              "            style=\"display:none;\">\n",
              "\n",
              "<svg xmlns=\"http://www.w3.org/2000/svg\" height=\"24px\"viewBox=\"0 0 24 24\"\n",
              "     width=\"24px\">\n",
              "    <g>\n",
              "        <path d=\"M19 3H5c-1.1 0-2 .9-2 2v14c0 1.1.9 2 2 2h14c1.1 0 2-.9 2-2V5c0-1.1-.9-2-2-2zM9 17H7v-7h2v7zm4 0h-2V7h2v10zm4 0h-2v-4h2v4z\"/>\n",
              "    </g>\n",
              "</svg>\n",
              "  </button>\n",
              "\n",
              "<style>\n",
              "  .colab-df-quickchart {\n",
              "      --bg-color: #E8F0FE;\n",
              "      --fill-color: #1967D2;\n",
              "      --hover-bg-color: #E2EBFA;\n",
              "      --hover-fill-color: #174EA6;\n",
              "      --disabled-fill-color: #AAA;\n",
              "      --disabled-bg-color: #DDD;\n",
              "  }\n",
              "\n",
              "  [theme=dark] .colab-df-quickchart {\n",
              "      --bg-color: #3B4455;\n",
              "      --fill-color: #D2E3FC;\n",
              "      --hover-bg-color: #434B5C;\n",
              "      --hover-fill-color: #FFFFFF;\n",
              "      --disabled-bg-color: #3B4455;\n",
              "      --disabled-fill-color: #666;\n",
              "  }\n",
              "\n",
              "  .colab-df-quickchart {\n",
              "    background-color: var(--bg-color);\n",
              "    border: none;\n",
              "    border-radius: 50%;\n",
              "    cursor: pointer;\n",
              "    display: none;\n",
              "    fill: var(--fill-color);\n",
              "    height: 32px;\n",
              "    padding: 0;\n",
              "    width: 32px;\n",
              "  }\n",
              "\n",
              "  .colab-df-quickchart:hover {\n",
              "    background-color: var(--hover-bg-color);\n",
              "    box-shadow: 0 1px 2px rgba(60, 64, 67, 0.3), 0 1px 3px 1px rgba(60, 64, 67, 0.15);\n",
              "    fill: var(--button-hover-fill-color);\n",
              "  }\n",
              "\n",
              "  .colab-df-quickchart-complete:disabled,\n",
              "  .colab-df-quickchart-complete:disabled:hover {\n",
              "    background-color: var(--disabled-bg-color);\n",
              "    fill: var(--disabled-fill-color);\n",
              "    box-shadow: none;\n",
              "  }\n",
              "\n",
              "  .colab-df-spinner {\n",
              "    border: 2px solid var(--fill-color);\n",
              "    border-color: transparent;\n",
              "    border-bottom-color: var(--fill-color);\n",
              "    animation:\n",
              "      spin 1s steps(1) infinite;\n",
              "  }\n",
              "\n",
              "  @keyframes spin {\n",
              "    0% {\n",
              "      border-color: transparent;\n",
              "      border-bottom-color: var(--fill-color);\n",
              "      border-left-color: var(--fill-color);\n",
              "    }\n",
              "    20% {\n",
              "      border-color: transparent;\n",
              "      border-left-color: var(--fill-color);\n",
              "      border-top-color: var(--fill-color);\n",
              "    }\n",
              "    30% {\n",
              "      border-color: transparent;\n",
              "      border-left-color: var(--fill-color);\n",
              "      border-top-color: var(--fill-color);\n",
              "      border-right-color: var(--fill-color);\n",
              "    }\n",
              "    40% {\n",
              "      border-color: transparent;\n",
              "      border-right-color: var(--fill-color);\n",
              "      border-top-color: var(--fill-color);\n",
              "    }\n",
              "    60% {\n",
              "      border-color: transparent;\n",
              "      border-right-color: var(--fill-color);\n",
              "    }\n",
              "    80% {\n",
              "      border-color: transparent;\n",
              "      border-right-color: var(--fill-color);\n",
              "      border-bottom-color: var(--fill-color);\n",
              "    }\n",
              "    90% {\n",
              "      border-color: transparent;\n",
              "      border-bottom-color: var(--fill-color);\n",
              "    }\n",
              "  }\n",
              "</style>\n",
              "\n",
              "  <script>\n",
              "    async function quickchart(key) {\n",
              "      const quickchartButtonEl =\n",
              "        document.querySelector('#' + key + ' button');\n",
              "      quickchartButtonEl.disabled = true;  // To prevent multiple clicks.\n",
              "      quickchartButtonEl.classList.add('colab-df-spinner');\n",
              "      try {\n",
              "        const charts = await google.colab.kernel.invokeFunction(\n",
              "            'suggestCharts', [key], {});\n",
              "      } catch (error) {\n",
              "        console.error('Error during call to suggestCharts:', error);\n",
              "      }\n",
              "      quickchartButtonEl.classList.remove('colab-df-spinner');\n",
              "      quickchartButtonEl.classList.add('colab-df-quickchart-complete');\n",
              "    }\n",
              "    (() => {\n",
              "      let quickchartButtonEl =\n",
              "        document.querySelector('#df-574fd85a-99f6-427c-8b80-9b2d575350eb button');\n",
              "      quickchartButtonEl.style.display =\n",
              "        google.colab.kernel.accessAllowed ? 'block' : 'none';\n",
              "    })();\n",
              "  </script>\n",
              "</div>\n",
              "\n",
              "  <div id=\"id_bcd6226d-a79f-4d53-be43-cf6a6706e7c3\">\n",
              "    <style>\n",
              "      .colab-df-generate {\n",
              "        background-color: #E8F0FE;\n",
              "        border: none;\n",
              "        border-radius: 50%;\n",
              "        cursor: pointer;\n",
              "        display: none;\n",
              "        fill: #1967D2;\n",
              "        height: 32px;\n",
              "        padding: 0 0 0 0;\n",
              "        width: 32px;\n",
              "      }\n",
              "\n",
              "      .colab-df-generate:hover {\n",
              "        background-color: #E2EBFA;\n",
              "        box-shadow: 0px 1px 2px rgba(60, 64, 67, 0.3), 0px 1px 3px 1px rgba(60, 64, 67, 0.15);\n",
              "        fill: #174EA6;\n",
              "      }\n",
              "\n",
              "      [theme=dark] .colab-df-generate {\n",
              "        background-color: #3B4455;\n",
              "        fill: #D2E3FC;\n",
              "      }\n",
              "\n",
              "      [theme=dark] .colab-df-generate:hover {\n",
              "        background-color: #434B5C;\n",
              "        box-shadow: 0px 1px 3px 1px rgba(0, 0, 0, 0.15);\n",
              "        filter: drop-shadow(0px 1px 2px rgba(0, 0, 0, 0.3));\n",
              "        fill: #FFFFFF;\n",
              "      }\n",
              "    </style>\n",
              "    <button class=\"colab-df-generate\" onclick=\"generateWithVariable('df1')\"\n",
              "            title=\"Generate code using this dataframe.\"\n",
              "            style=\"display:none;\">\n",
              "\n",
              "  <svg xmlns=\"http://www.w3.org/2000/svg\" height=\"24px\"viewBox=\"0 0 24 24\"\n",
              "       width=\"24px\">\n",
              "    <path d=\"M7,19H8.4L18.45,9,17,7.55,7,17.6ZM5,21V16.75L18.45,3.32a2,2,0,0,1,2.83,0l1.4,1.43a1.91,1.91,0,0,1,.58,1.4,1.91,1.91,0,0,1-.58,1.4L9.25,21ZM18.45,9,17,7.55Zm-12,3A5.31,5.31,0,0,0,4.9,8.1,5.31,5.31,0,0,0,1,6.5,5.31,5.31,0,0,0,4.9,4.9,5.31,5.31,0,0,0,6.5,1,5.31,5.31,0,0,0,8.1,4.9,5.31,5.31,0,0,0,12,6.5,5.46,5.46,0,0,0,6.5,12Z\"/>\n",
              "  </svg>\n",
              "    </button>\n",
              "    <script>\n",
              "      (() => {\n",
              "      const buttonEl =\n",
              "        document.querySelector('#id_bcd6226d-a79f-4d53-be43-cf6a6706e7c3 button.colab-df-generate');\n",
              "      buttonEl.style.display =\n",
              "        google.colab.kernel.accessAllowed ? 'block' : 'none';\n",
              "\n",
              "      buttonEl.onclick = () => {\n",
              "        google.colab.notebook.generateWithVariable('df1');\n",
              "      }\n",
              "      })();\n",
              "    </script>\n",
              "  </div>\n",
              "\n",
              "    </div>\n",
              "  </div>\n"
            ],
            "application/vnd.google.colaboratory.intrinsic+json": {
              "type": "dataframe",
              "variable_name": "df1",
              "summary": "{\n  \"name\": \"df1\",\n  \"rows\": 400,\n  \"fields\": [\n    {\n      \"column\": \"file\",\n      \"properties\": {\n        \"dtype\": \"string\",\n        \"samples\": [\n          \"Motion Granted; Appeal Dismissed and Memorandum Opinion filed January\\n30, 2024.\\n\\n\\n\\n\\n                                      In The\\n\\n                     Fourteenth Court of Appeals\\n\\n                               NO. 14-23-00765-CV\\n\\n\\n          PHONOSCOPE ENTERPRISE GROUP, LLC, Appellant\\n\\n                                        V.\\n\\n   PLW FIBER NETWORK, INC. PS LIGHTWAVE, INC. AND GRAIN\\n                MANAGEMENT LLC, Appellees\\n\\n                     On Appeal from the 157th District Court\\n                             Harris County, Texas\\n                       Trial Court Cause No. 2022-36725\\n\\n\\n                          MEMORANDUM OPINION\\n\\n      This is an appeal from a judgment signed July 24, 2023. On January 3, 2023,\\nappellant filed a motion to dismiss the appeal. See Tex. R. App. P. 42.1. The\\nmotion is granted.\\n\\n      We dismiss the appeal.\\n\\n                                  PER CURIAM\\n\\nPanel consists of Chief Justice Christopher, Justices Wise and Jewell.\\n\\f\",\n          \"                  THE SUPREME COURT, STATE OF WYOMING\\n\\n                                             2024 WY 17\\n\\n                                                                   OCTOBER TERM, A.D. 2023\\n\\n                                                                           February 2, 2024\\n\\n CHARLES A. SANTISTEVAN,\\n\\n Appellant\\n (Defendant),\\n                                                                   S-22-0229, S-23-0116\\n v.\\n\\n THE STATE OF WYOMING,\\n\\n Appellee\\n (Plaintiff).\\n\\n\\n                       Appeal from the District Court of Albany County\\n                          The Honorable Tori R.A. Kricken, Judge\\n\\nRepresenting Appellant:\\n      Office of the State Public Defender: Diane M. Lozano, State Public Defender; Kirk\\n      A. Morgan, Chief Appellate Counsel; H. Michael Bennett, Senior Assistant\\n      Appellate Counsel.\\n\\nRepresenting Appellee:\\n      Bridget L. Hill, Attorney General; Jenny L. Craig, Deputy Attorney General;\\n      Kristen R. Jones, Senior Assistant Attorney General; John J. Woykovsky, Senior\\n      Assistant Attorney General.\\n\\nBefore FOX, C.J., and KAUTZ, BOOMGAARDEN, GRAY and FENN, JJ.\\n\\n\\n\\nNOTICE: This opinion is subject to formal revision before publication in Pacific Reporter Third. Readers are\\nrequested to notify the Clerk of the Supreme Court, Supreme Court Building, Cheyenne, Wyoming 82002, of\\nany typographical or other formal errors so that correction may be made before final publication in the\\npermanent volume.\\n\\fFENN, Justice.\\n\\n[\\u00b61] A jury convicted Charles Anthony \\u201cTony\\u201d Santistevan of six counts of sexual\\nassault in the first degree, one count of sexual assault in the third degree, and one count of\\nvoyeurism. On appeal, he claims the district court abused its discretion when it allowed\\nthe State to introduce evidence pursuant to Wyoming Rules of Evidence (W.R.E.) 404(b)\\nthat Mr. Santistevan\\u2019s sexual relationship with the victim, R.S., began when she was a\\nminor. We affirm.\\n\\n                                           ISSUE\\n\\n[\\u00b62] Mr. Santistevan presents a single issue, which we rephase as follows: Did the district\\ncourt abuse its discretion when it admitted evidence of Mr. Santistevan\\u2019s relationship with\\nR.S. when she was a minor pursuant to W.R.E. 404(b)?\\n\\n                                          FACTS\\n\\n[\\u00b63] In 2020, a task force with the Wyoming Department of Criminal Investigation began\\ninvestigating Mr. Santistevan on unrelated criminal allegations. During the execution of a\\nsearch warrant at Mr. Santistevan\\u2019s residence, law enforcement seized electronics\\nincluding two laptop computers. When Special Agent Luke Rippy reviewed the contents\\nof the laptops, he found thumbnails and videos of a nude female who appeared to be\\nunconscious while an individual performed sexual acts on her. Special Agent Rippy\\nidentified the female in the videos as Mr. Santistevan\\u2019s wife, R.S., and contacted her to ask\\nabout the videos. R.S. told law enforcement she was unaware of the videos, she did not\\nknow they existed, and she never consented to the sexual encounters.\\n\\n[\\u00b64] Special Agent Rippy obtained an additional search warrant to allow him to review\\nthe videos and photos on the laptops more thoroughly. He found approximately seven\\nvideos of R.S. unconscious while Mr. Santistevan performed sexual acts on her, including\\npenetration using a transcutaneous electrical nerve stimulation unit which sends electric\\nshocks into the body for nerve stimulation. In addition to the seven videos of sexual\\nintrusion while R.S. was unconscious, Special Agent Rippy located four videos of R.S.\\ntaking a shower where she appeared to be unaware she was being video recorded. Special\\nAgent Rippy interviewed Mr. Santistevan and R.S. about the videos.\\n\\n[\\u00b65] When Special Agent Rippy asked Mr. Santistevan about the videos, \\u201c[h]e stated\\n[R.S.] would take Klonopin to the point where she would pass out [or] go . . . unconscious.\\u201d\\nMr. Santistevan said \\u201c[h]e would perform sexual acts on [R.S.] and record it[]\\u201d and then\\nthe next day they would watch the recordings together. Mr. Santistevan said they were\\nmarried at the time the videos were recorded. He stated he met R.S. when she was\\napproximately 16 to 17 years old, and he was helping her parents redo their roof. He stated\\nthey began dating when R.S. was 18 and going to college.\\n\\n\\n                                              1\\n\\f[\\u00b66] When Special Agent Rippy interviewed R.S., he had her review still photographs\\nfrom the videos to identify herself, the location of the videos, and determine if it was Mr.\\nSantistevan performing the sexual acts and recording the videos. During the interview,\\nR.S. became angry and upset. R.S. informed Special Agent Rippy she had no knowledge\\nof the videos and that she never consented to the sexual acts being performed on her by\\nMr. Santistevan or to the recordings of the sexual acts. R.S. further informed Special Agent\\nRippy she met Mr. Santistevan when she was approximately 14 or 15 years old while\\nwaitressing at a caf\\u00e9. R.S. said Mr. Santistevan would come into the caf\\u00e9 and talk to her\\nabout his art. He gave her his phone number and told her, \\u201cIf you ever want to come hang\\nout or come look at my art, give me a call.\\u201d R.S. stated she went over to Mr. Santistevan\\u2019s\\nhouse when she was 15 and they began a sexual relationship. Mr. Santistevan was\\napproximately 37 years old at the time. During his investigation, Special Agent Rippy\\nfound nude photographs of R.S. on Mr. Santistevan\\u2019s electronic devices that Mr.\\nSantistevan took when she was 15 years old.\\n\\n[\\u00b67] Mr. Santistevan was charged with six counts of sexual assault in the first degree in\\nviolation of Wyoming Statute \\u00a7 6-2-302(a)(iii) (LexisNexis 2016), one count of sexual\\nassault in the third degree in violation of Wyoming Statute \\u00a7 6-2-304(a)(iii) (LexisNexis\\n2016) for the sexual intrusion and video recordings of R.S. while she was unconscious, and\\none count of voyeurism in violation of Wyoming Statute \\u00a7 6-4-304(b)(i) (LexisNexis 2016)\\nfor the shower videos of R.S. These charges did not include allegations stemming from\\nsexual relations between Mr. Santistevan and R.S. when she was under the age of 18.\\n\\n[\\u00b68] Mr. Santistevan filed a demand for the State\\u2019s intent to use any evidence pursuant\\nto W.R.E. 404(b) at trial. The State filed its notice of intent and its supplemental notice of\\nintent indicating it intended to introduce several instances of uncharged misconduct or\\nother acts under W.R.E. 404(b). The State specifically sought to introduce evidence Mr.\\nSantistevan established a relationship with R.S. when she was 14 years old and he was\\napproximately 37 years old, and he engaged in sexual conduct with her on a regular basis\\nwhile she was under the age of 18. The State further sought to introduce evidence Mr.\\nSantistevan told R.S. she was not to discuss their relationship when she was a minor\\nbecause he could go to jail. The State sought to introduce this evidence under W.R.E.\\n404(b) for the purposes of plan, course of conduct, and because it went directly to the\\nconsent element of the crimes charged. The district court held a pre-trial Gleason1 hearing\\non December 28, 2021, and found the evidence was relevant and admissible under W.R.E.\\n404(b) to show an ongoing scheme or plan and to demonstrate Mr. Santistevan\\u2019s course of\\nconduct. The district court further held the evidence developed the facts regarding the\\n\\n\\n1\\n A Gleason hearing is the required pre-trial hearing to determine the potential admissibility of proposed\\nW.R.E. 404(b) evidence. See, e.g., Volpi v. State, 2018 WY 66, \\u00b6 12, 419 P.3d 884, 889 (Wyo. 2018);\\nGleason v. State, 2002 WY 161, \\u00b6\\u00b6 25\\u201330, 57 P.3d 332, 342\\u201343 (Wyo. 2002).\\n\\n\\n                                                   2\\n\\frelationship between R.S. and Mr. Santistevan and established the facts leading up to the\\nalleged nonconsensual sexual conduct.\\n\\n[\\u00b69] During the trial, the State introduced statements Mr. Santistevan made to Special\\nAgent Rippy about when he began his relationship with R.S. The State further introduced\\nR.S.\\u2019s testimony regarding when she met Mr. Santistevan, and the caf\\u00e9 manager\\u2019s\\ntestimony about when R.S. worked at the caf\\u00e9 and how Mr. Santistevan would come into\\nthe caf\\u00e9. R.S. testified to the following regarding the W.R.E. 404(b) evidence:\\n\\n             Q. And [R.S.], when did you meet Tony?\\n\\n             A. I met Tony in summer of 2011.\\n\\n             Q. And how old were you in the summer of 2011?\\n\\n             A. I was 14, turning 15.\\n\\n             Q. How old were you when you met Tony?\\n\\n             A. I was 14.\\n\\n             Q. And how did you meet Tony?\\n\\n             A. I was a waitress at a truck stop and he was a patron there.\\n\\n             Q. And where was this truck stop?\\n\\n             A. It\\u2019s in Lusk, Wyoming; called the Outpost Caf\\u00e9.\\n\\n             Q. And so you were a waitress there when you were 14?\\n\\n             A. Yes.\\n\\n             Q. And how, I guess, how did you meet him?\\n\\n             A. He would come into the restaurant and he would draw or\\n                play chess, but usually he\\u2019d come in there to draw.\\n\\n             Q. Were you interested in art as well?\\n\\n             A. Yes.\\n\\n             Q. Would you talk about art with him?\\n\\n\\n                                            3\\n\\fA. Yes.\\n\\nQ. And how old was Mr. Santistevan when you were 14?\\n\\nA. He was either 36 or 37.\\n\\nQ. And did your relationship progress with Tony past one of\\n   waitress and patron?\\n\\nA. Yes.\\n\\nQ. What - - how did that happen?\\n\\nA. We started to - - well, he would invite me over to his house\\n   because I was interested in his artwork. But then shortly\\n   after that, it progressed into a sexual relationship.\\n\\nQ. Did you consider yourself dating Tony?\\n\\nA. Yes.\\n\\nQ. When, about, did you consider yourself dating Tony?\\n\\nA. Not the first year but, like, 2012, that fall was when I would\\n   consider us to be starting, like, a monogamous dating\\n   relationship.\\n\\nQ. And how old were you at that time?\\n\\nA. I was 16.\\n\\nQ. And when you were in a dating relationship, at that time\\nwith Tony, or even before you considered yourself dating him,\\ndid you ever tell anyone that you were seeing Tony?\\n\\nA. No, I did not.\\n\\nQ. And why not?\\n\\nA. Because he told me not to. Because he knew he was going\\n   to get in trouble.\\n\\n\\n\\n                               4\\n\\f              Q. And how long did you date Tony?\\n\\n              A. Until we got married.\\n\\n              Q. And when was that?\\n\\n              A. I was 19. . . .\\n\\n[\\u00b610] After a four-day trial, the jury found Mr. Santistevan guilty on all eight counts. The\\ndistrict court sentenced Mr. Santistevan to 40 to 50 years for count one of sexual assault in\\nthe first degree; 20 to 30 years for count two of sexual assault in the first degree to run\\nconsecutively to count one; 10 to 20 years for counts three, four, five, and six of sexual\\nassault in the first degree, all to run concurrent to count one; 12 to 15 years for count seven\\nof sexual assault in the third degree to run concurrent to count one; and 12 months to 24\\nmonths for count eight of voyeurism to run concurrent to count one. Mr. Santistevan was\\ngiven 338 days of credit for time served on all eight counts.\\n\\n[\\u00b611] Mr. Santistevan filed a motion for a new trial pursuant to Wyoming Rules of\\nAppellate Procedure 21 claiming his trial counsel was ineffective. He claimed his trial\\ncounsel did not include him during discovery and witness identification and failed to\\nadequately investigate all of the facts and circumstances surrounding R.S.\\u2019s testimony.\\nFollowing a hearing, the district court denied Mr. Santistevan\\u2019s motion for a new trial. Mr.\\nSantistevan timely appealed the district court\\u2019s order allowing admission of evidence\\nregarding his relationship with R.S. when she was a minor and its order denying his motion\\nfor a new trial due to ineffective assistance of counsel.\\n\\n                                   STANDARD OF REVIEW\\n\\n[\\u00b612] In his appellate brief, Mr. Santistevan raises only the admissibility of the W.R.E.\\n404(b) evidence and does not challenge the denial of his motion for a new trial for\\nineffective assistance of counsel. He filed a pretrial demand for notice of the State\\u2019s intent\\nto introduce evidence under W.R.E. 404(b), so we review the admission of the evidence\\nfor an abuse of discretion. Anderson v. State, 2022 WY 119, \\u00b6 11, 517 P.3d 583, 588 (Wyo.\\n2022) (citing Barrett v. State, 2022 WY 64, \\u00b6 41, 509 P.3d 940, 948 (Wyo. 2022)). \\u201cWe\\nwill not disturb the trial court\\u2019s determination of the admissibility of evidence unless the\\ncourt clearly abused its discretion.\\u201d Freer v. State, 2023 WY 80, \\u00b6 11, 533 P.3d 897, 901\\n(Wyo. 2023) (quoting Anderson, \\u00b6 11, 517 P.3d at 588). On review, \\u201c[w]e need only\\ndetermine whether the court could have reasonably concluded as it did.\\u201d Id.\\n\\n                                       DISCUSSION\\n\\n[\\u00b613] Mr. Santistevan contends the district court abused its discretion by admitting\\nevidence of uncharged misconduct under W.R.E. 404(b). He challenges the district court\\u2019s\\n\\n\\n                                              5\\n\\fdecision to admit testimony stating he engaged in sexual intercourse with R.S. when she\\nwas under the age of 18 and he was in his mid to late 30s. W.R.E. 404(b) governs the\\nadmissibility of other acts evidence or uncharged misconduct, stating:\\n\\n              Evidence of other crimes, wrongs, or acts is not admissible to\\n              prove the character of a person in order to show that he acted\\n              in conformity therewith. It may, however, be admissible for\\n              other purposes, such as proof of motive, opportunity, intent,\\n              preparation, plan, knowledge, identity, or absence of mistake\\n              or accident, provided that upon request by the accused, the\\n              prosecution in a criminal case shall provide reasonable notice\\n              in advance of trial, or during trial if the court excuses pretrial\\n              notice on good cause shown, of the general nature of any such\\n              evidence it intends to introduce at trial.\\n\\nW.R.E. 404(b).\\n\\n[\\u00b614] The admission of other crimes, wrongs, or acts carries the risk of inherent prejudice.\\nVolpi, 2018 WY 66, \\u00b6 12, 419 P.3d at 889 (quoting Wease v. State, 2007 WY 176, \\u00b6 59,\\n170 P.3d 94, 116 (Wyo. 2007)). Generally, such evidence is not admissible because \\u201cthe\\ndefendant in a criminal case should not be convicted because he is an unsavory person, nor\\nbecause of past misdeeds, but only because of his guilt of the particular crime charged.\\u201d\\nFreer, 2023 WY 80, \\u00b6 13, 533 P.3d at 902 (quoting Olson v. State, 2023 WY 11, \\u00b6 13, 523\\nP.3d 910, 913\\u201314 (Wyo. 2023)); Volpi, \\u00b6 12, 419 P.3d at 889. If the State wishes to use\\nevidence of other crimes, wrongs, or acts at trial, a well-established procedure must be\\nfollowed. Freer, \\u00b6 13, 533 P.3d at 902 (quoting Olson, \\u00b6 13, 523 P.3d at 914).\\n\\n              When a defendant files a pretrial demand for notice of the\\n              State\\u2019s intent to introduce uncharged misconduct evidence, the\\n              State must identify the evidence. The district court then must\\n              hold a hearing in which the State offers a relevant and proper\\n              purpose for admissibility under Rule 404(b) and explains why\\n              the evidence is more probative than unfairly prejudicial. In that\\n              hearing, the district court must then conduct an exacting\\n              analysis of the Gleason factors:\\n\\n                     (1) the evidence must be offered for a proper\\n                     purpose; (2) the evidence must be relevant; (3)\\n                     the probative value of the evidence must not be\\n                     substantially outweighed by its potential for\\n                     unfair prejudice; and (4) upon request, the trial\\n                     court must instruct the jury that the similar acts\\n\\n\\n\\n                                              6\\n\\f                         evidence is to be considered only for the proper\\n                         purpose for which it was admitted.\\n\\nId. (quoting Olson, \\u00b6 13, 523 P.3d at 914); see also Gleason, 2002 WY 161, \\u00b6 27, 57 P.3d\\nat 342 (discussing the procedures to admit evidence under W.R.E. 404(b)).\\n\\n[\\u00b615] We do not apply the Gleason analysis anew on appeal. Mayhew v. State, 2019 WY\\n38, \\u00b6 27, 438 P.3d 617, 624 (Wyo. 2019) (citing Garrison v. State, 2018 WY 9, \\u00b6 20, 409\\nP.3d 1209, 1215 (Wyo. 2018); Griggs v. State, 2016 WY 16, \\u00b6\\u00b6 128\\u2013129, 367 P.3d 1108,\\n1143 (Wyo. 2016)). Instead, we determine whether there is a legitimate basis for the\\ndistrict court\\u2019s decision. Freer, 2023 WY 80, \\u00b6 14, 533 P.3d at 902; Barrett, 2022 WY 64,\\n\\u00b6 48, 509 P.3d at 950. On appeal, Mr. Santistevan must show the district court abused its\\ndiscretion and did not admit the evidence for a proper purpose under W.R.E. 404(b).\\nAnderson, 2022 WY 119, \\u00b6 15, 517 P.3d at 589 (citing Barrett, \\u00b6 48, 509 P.3d at 950).\\n\\n[\\u00b616] The district court held the required hearing, conducted the Gleason analysis, and\\nfound the evidence of Mr. Santistevan\\u2019s relationship with R.S. when she was a minor was\\nadmissible under W.R.E. 404(b). It held:\\n\\n                 32. While the Court is cognizant of the potential prejudice\\n                 caused by information that Mr. Santistevan began a sexual\\n                 relationship with R.S. while she was a minor, the Court\\n                 concludes that this information is necessary to provide the jury\\n                 with a complete story as to Mr. Santistevan\\u2019s access to the\\n                 alleged victim, his control over her, and his development of a\\n                 \\u201crelationship\\u201d that would allow for sexual access (sometimes\\n                 referred to as \\u201cgrooming\\u201d [2]).\\n\\n                 33. The Court further agrees with the State that introduction\\n                 of this evidence is appropriate pursuant to the well-recognized\\n                 \\u201ccourse of conduct\\u201d purpose. See Leyva v. State, 2007 WY 136,\\n                 \\u00b6 28, 165 P.3d 446, 454 (Wyo. 2007) (explaining that the\\n                 \\u201ccourse of conduct\\u201d purpose refers to misconduct that \\u201cforms\\n                 part of the history of the event or serve to enhance natural\\n                 development of the facts\\u201d). This evidence is relevant to\\n                 establish the crimes charged because it assists in providing a\\n                 complete story to the jury, particularly Mr. Santistevan\\u2019s\\n                 conduct in developing a controlling relationship with a young\\n\\n2\\n  \\u201cGrooming refers to deliberate actions taken by a defendant to expose a child to sexual material; the\\nultimate goal of grooming is the formation of an emotional connection with the child and a reduction of the\\nchild\\u2019s inhibitions in order to prepare the child for sexual activity.\\u201d United States v. Isabella, 918 F.3d 816,\\n833 (10th Cir. 2019) (quoting United States v. Chambers, 642 F.3d 588, 593 (7th Cir. 2011)).\\n\\n\\n                                                       7\\n\\f              and vulnerable female. It develops the facts giving rise to the\\n              State\\u2019s current allegations against Mr. Santistevan, particularly\\n              the dynamics of his relationship with R.S., culminating in\\n              allegedly      forcible      and      nonconsensual        sexual\\n              intercourse/intrusion.     The Court concludes that Mr.\\n              Santistevan\\u2019s grooming behaviors and history of his\\n              relationship with R.S. are relevant to show an ongoing scheme\\n              or plan as well as to demonstrate a course of conduct.\\n\\n[\\u00b617] We have previously recognized evidence of uncharged misconduct is admissible as\\nan exception under W.R.E. 404(b) if it \\u201cforms part of the history of the event or serves to\\nenhance the natural development of the facts.\\u201d Leyva, 2007 WY 136, \\u00b6 28, 165 P.3d at 454\\n(citing Bromley v. State, 2007 WY 20, \\u00b6 9, 150 P.3d 1202, 1207 (Wyo. 2007); Blakeman\\nv. State, 2004 WY 139, \\u00b6 32, 100 P.3d 1229, 1237 (Wyo. 2004); Crozier v. State, 723 P.2d\\n42, 49 (Wyo.1986)). \\u201c[E]vents do not occur in a vacuum and the jury has the right to have\\nthe offense placed in its proper setting.\\u201d Garrison, 2018 WY 9, \\u00b6 27, 409 P.3d at 1217\\n(quoting Bromley, \\u00b6 21, 150 P.3d at 1209). When evidence is used to explain the parties\\u2019\\nrelationship, it invokes the proper purpose of the course of conduct between the parties\\nunder W.R.E. 404(b). Id. The evidence introduced by the State established: 1) Mr.\\nSantistevan met R.S. when she was 14; 2) how their relationship progressed, including his\\ngrooming of R.S. when she was a minor; and 3) their sexual relationship. The district court\\ndid not abuse its discretion by admitting this evidence under W.R.E. 404(b) for the proper\\npurpose of course of conduct to illustrate the relationship between Mr. Santistevan and R.S.\\nand to enhance the natural development of the facts. See generally Garrison, 2018 WY 9,\\n\\u00b6 29, 409 P.3d at 1217 (finding the other acts evidence demonstrating the relationship\\nbetween the defendant and the victim prior to the alleged crime illustrated the strained\\nrelationship between the parties and allowed the jury to place the charge within the context\\nof the parties\\u2019 relationship); Bhutto v. State, 2005 WY 78, \\u00b6 24, 114 P.3d 1252, 1263 (Wyo.\\n2005) (citing Solis v. State, 981 P.2d 28, 31 (Wyo. 1999)) (finding prior acts of domestic\\nviolence between the defendant and the victim though dissimilar to the alleged crime\\n\\u201chelp[ed] the jury understand the relationship between the parties\\u201d).\\n\\n[\\u00b618] While we find no abuse of discretion in the district court\\u2019s conclusion that the\\nevidence is admissible to show course of conduct, we have cautioned against relying solely\\non course of conduct as a basis to admit evidence under W.R.E. 404(b). Moser v. State,\\n2018 WY 12, \\u00b6 36, 409 P.3d 1236, 1247 (Wyo. 2018). \\u201c[W]e recognize the danger that a\\ncourse of conduct exception, standing alone, could swallow the general rule against\\nadmission of \\u2018other crimes, wrongs, or acts,\\u2019 and we emphasize that it must be linked to\\nanother legitimate purpose.\\u201d Anderson, 2022 WY 119, \\u00b6 25, 517 P.3d at 591 (Wyo. 2022)\\n(quoting Moser, \\u00b6 36, 409 P.3d at 1247). In this matter, we do not have that concern.\\n\\n[\\u00b619] The district court did not rely solely on the course of conduct exception to admit the\\nevidence of Mr. Santistevan\\u2019s relationship with R.S. while she was a minor. The district\\n\\n\\n                                             8\\n\\fcourt admitted Mr. Santistevan\\u2019s relationship history with R.S. to further show an ongoing\\nscheme or plan by Mr. Santistevan. It found the evidence relevant to illustrate the dynamics\\nof the relationship between Mr. Santistevan and R.S. and to show the jury the complete\\nstory about how Mr. Santistevan developed his sexual relationship with R.S. and groomed\\nher for his sexual access from a young age. It further found the evidence showed Mr.\\nSantistevan developed a controlling relationship with R.S., which culminated in the\\nnonconsensual sexual activity that formed the basis for the underlying charges against Mr.\\nSantistevan.\\n\\n[\\u00b620] There is a legitimate basis for the district court\\u2019s decision to admit the evidence of\\nMr. Santistevan\\u2019s relationship with R.S. when she was a minor. An essential element of\\nall seven counts of sexual assault Mr. Santistevan was charged with is whether Mr.\\nSantistevan \\u201cknows or reasonably should know . . . that [R.S.] has not consented.\\u201d Wyo.\\nStat. Ann. \\u00a7 6-2-302(a)(iii); Wyo. Stat. Ann. \\u00a7 6-2-304(a)(iii). Mr. Santistevan\\u2019s defense\\nto all seven sexual assault charges was that R.S. consented to the sexual encounters and\\nrecordings of these sexual acts. As Mr. Santistevan\\u2019s counsel told the jury in his opening\\nstatement \\u201c[t]he evidence in this case [came] down to one issue: Consent.\\u201d\\n\\n[\\u00b621] In Watters, we held the district court did not abuse its discretion when it found an\\nalleged victim\\u2019s testimony regarding prior incidents of sexual intercourse occurring\\nbetween her and the defendant along with sexually explicit photographs the defendant took\\nof the victim and himself were admissible under W.R.E. 404(b). Watters v. State, 2004 WY\\n155, \\u00b6\\u00b6 19\\u201328, 101 P.3d 908, 916\\u201319 (Wyo. 2004). The defendant was the foster parent,\\nguardian, and conservator of the victim who was over the age of 21 and in a group home.\\nId. at \\u00b6 3, 101 P.3d at 911\\u201312. One day the defendant visited the victim in the group home\\nand engaged in sexual intercourse with her. Id. at \\u00b6\\u00b6 3\\u20135, 101 P.3d at 911\\u201312. The State\\ncharged the defendant with one count first-degree sexual assault, or, in the alternative one\\ncount of second-degree sexual assault. Id. at \\u00b6 6, 101 P.3d at 912. At trial, the defendant\\nclaimed the sexual relationship with the victim was consensual. Id. at \\u00b6 27, 101 P.3d at\\n918\\u201319. On appeal, we upheld the district court\\u2019s decision to admit evidence of prior\\nincidents of sexual intercourse under W.R.E. 404(b) for the proper purposes of course of\\nconduct and bolstering the victim\\u2019s credibility. Id. at \\u00b6\\u00b6 19\\u201328, 101 P.3d 908, 916\\u201319. We\\nfound the evidence went directly to an essential element of the charged offense regarding\\nwhether the defendant used his authority over the victim to cause submission. Id. at \\u00b6\\u00b6 25\\u2013\\n27, 101 P.3d at 918\\u201319. We agreed with the district court that the evidence went directly\\nto the State\\u2019s theory that the motivation for the defendant\\u2019s relationship with the victim\\nwas for sexual gratification, and also established the charged incident evolved from the\\nrelationship and prior incidents the defendant had with the victim. Id. at \\u00b6\\u00b6 24\\u201327, 101 P.3d\\nat 918\\u201319.\\n\\n[\\u00b622] Here, similar to the defense\\u2019s theory in Watters, the issue for the jury to decide was\\nwhether R.S. consented to the sexual encounters and video recordings made by Mr.\\nSantistevan. The evidence of Mr. Santistevan\\u2019s relationship with R.S. when she was a\\n\\n\\n                                             9\\n\\fminor, including their sexual relationship, illustrated: 1) the relationship between R.S. and\\nMr. Santistevan; 2) placed the allegations into the context of the parties\\u2019 relationship; 3)\\nwent directly to the parties\\u2019 theories of the case, including R.S.\\u2019s credibility; and 4) was\\nrelevant to an essential element of the charged crimes. The evidence of R.S.\\u2019s and Mr.\\nSantistevan\\u2019s relationship from the time R.S. was a minor provided significant probative\\nvalue under the circumstances of this case. The district court did not abuse its discretion\\nby admitting the evidence under W.R.E. 404(b). See generally Garrison, 2018 WY 9, \\u00b6\\u00b6\\n29\\u201332, 409 P.3d at 1217\\u201318 (finding evidence the victim obtained a protection order and\\nhad separated from the defendant admissible for the course of conduct of the defendant and\\nestablishing motive and identity); Watters, 2004 WY 155, \\u00b6\\u00b6 19\\u201328, 101 P.3d at 916\\u201319.\\n\\n                                     CONCLUSION\\n\\n[\\u00b623] The district court did not abuse its discretion when it admitted evidence of Mr.\\nSantistevan\\u2019s relationship with R.S. when she was a minor pursuant to W.R.E. 404(b) at\\ntrial. We affirm.\\n\\n\\n\\n\\n                                             10\\n\\f\",\n          \"Filed 1/19/24 P. v. Lewis CA3\\n                                           NOT TO BE PUBLISHED\\nCalifornia Rules of Court, rule 8.1115(a), prohibits courts and parties from citing or relying on opinions not certified for\\npublication or ordered published, except as specified by rule 8.1115(b). This opinion has not been certified for publication\\nor ordered published for purposes of rule 8.1115.\\n\\n\\n\\n\\n                IN THE COURT OF APPEAL OF THE STATE OF CALIFORNIA\\n                                      THIRD APPELLATE DISTRICT\\n                                                       (Siskiyou)\\n                                                            ----\\n\\n\\n\\n\\n THE PEOPLE,                                                                                   C097938\\n\\n                    Plaintiff and Respondent,                                    (Super. Ct. Nos. SCCR-CRF-\\n                                                                                 2020-348, SCCR-CRF-2021-\\n           v.                                                                                 376)\\n\\n ADAM CHRISTIAN LEWIS,\\n\\n                    Defendant and Appellant.\\n\\n\\n\\n\\n         Defendant Adam Christian Lewis resolved three pending criminal matters via a\\nglobal plea agreement in which he pleaded guilty or no contest to multiple offenses in\\nexchange for a stipulated 15-year term in state prison and dismissal of the remaining\\ncharges. Appointed counsel for defendant filed an opening brief that sets forth the facts\\nof the case and asks this court to review the record and determine whether there are any\\narguable issues on appeal. (People v. Wende (1979) 25 Cal.3d 436 (Wende).)\\n\\n\\n\\n\\n                                                             1\\n\\f       After examining the record, it appears the trial court inadvertently failed to dismiss\\nthe remaining charges in all three cases after accepting defendant\\u2019s guilty or no contest\\npleas under the global plea agreement. We shall modify the judgment to dismiss the\\nremaining counts as contemplated by the parties. We have also discovered errors in the\\nabstract of judgment that we shall order be corrected. We find no other arguable error\\nthat would result in a disposition more favorable to defendant and affirm the judgment as\\nmodified.\\n\\n                      FACTS AND HISTORY OF THE PROCEEDINGS\\n       In July 2019, defendant was charged in Siskiyou County case No. 19-1220 (case\\nNo. 1220) with two felonies: conspiracy to commit theft (Pen. Code \\u00a7\\u00a7 182, subd. (a)(1),\\n484, subd. (a), 487, subd. (a) & 488 [count 1], statutory section citations that follow are\\nfound in the Penal Code unless otherwise stated); possession of a billy or blackjack\\n(\\u00a7 22210 [count 2]); and three misdemeanors: prohibited interception of public safety\\ncommunication (\\u00a7 636.5 [count 3]); resisting, obstructing, or delaying a peace officer\\n(\\u00a7 148, subd. (a)(1) [count 4]); and possession of a smoking device (Health & Saf. Code,\\n\\u00a7 11364, subd. (a) [count 5]). Defendant was released on his own recognizance.\\n       In March 2020, defendant was charged in Siskiyou County case No. 20-348 (case\\nNo. 348) with three counts of assault with a deadly weapon (\\u00a7 245, subd. (a)(1), count 1\\n[against M.M. with a baseball bat], count 3 [against L.S. with a baseball bat] & count 6\\n[against E.L. with a motor vehicle]); three counts of assault by means likely to produce\\ngreat bodily injury (\\u00a7 245, subd. (a)(4), count 2 [M.M.], count 4 [L.S.] & count 7 [E.L.]);\\nfirst degree felony burglary with a nonaccomplice present (\\u00a7\\u00a7 459, 667.5, subd. (c)(21),\\ncount 5); and possession of a deadly weapon, a crossbow, with the intent to assault\\nanother (\\u00a7 17500; count 8). For counts 1 and 2, it was alleged that defendant personally\\ninflicted great bodily injury (\\u00a7 12022.7, subd. (a)), and for counts 1 through 7 it was\\nalleged that defendant was released from custody on bail or his own recognizance in case\\n\\n\\n                                              2\\n\\fNo. 1220 at the time of the offenses (\\u00a7 12022.1). In April 2020, defendant was again\\nreleased on his own recognizance.\\n       This brief factual summary is based on the police reports, which the parties\\nstipulated to as the factual basis for defendant\\u2019s pleas.\\n       The charges in case No. 348 stemmed from police reports that defendant struck\\nE.L. with a vehicle as he was riding his gas-powered bicycle, which was later stolen, and\\nthat defendant assaulted L.S. and M.M. with a bat because he believed they had stolen\\nproperty belonging to defendant\\u2019s deceased father.\\n       In March 2021, while out of custody, defendant was charged in Siskiyou County\\ncase No. 21-376 (case No. 376) with attempted willful, deliberate, and premeditated\\nmurder (\\u00a7\\u00a7 664, 187, subd. (a), count 1 [victims Jane Doe and John Doe]); shooting at an\\noccupied vehicle (\\u00a7 246; count 2); and possession of a billy or blackjack (\\u00a7 22210, count\\n3). For count 1, it was alleged that defendant personally and intentionally discharged a\\nfirearm (\\u00a7 12022.53, subd. (c)) and personally used a firearm (\\u00a7 12022.53, subd. (b)).\\nThe trial court revoked defendant\\u2019s release and issued a criminal protective order for the\\nvictims in case No. 376.\\n       Regarding the charges in case No. 376, the victim had reported being shot at while\\ndriving from a casino where defendant had repeatedly threatened her; a red truck with a\\ndriver resembling defendant had followed her and fired shots at her car as the truck\\npassed. A later search of the suspect vehicle located a container with defendant\\u2019s name\\non it, documents with the name of the person who was with the victim when she made the\\npolice report, binoculars, a methamphetamine pipe, and several weapons. Law\\nenforcement opined that defendant intended to kill the victim because he believed she\\nwas involved in his father\\u2019s death and stole his property.\\n       The People moved to consolidate case No. 376 (defendant\\u2019s attempted murder\\ncase) with two pending cases against defendant Justin Ritchison. The court denied the\\n\\n\\n\\n                                              3\\n\\fmotion without prejudice to refile it following the preliminary hearing, which was set in\\nJune 2021.\\n       In May 2022, defendant\\u2019s counsel, Mr. Ahart, declared a conflict based on his\\nprior representation of two adverse material witnesses in case No. 348. He asked to be\\nrelieved and to have Mr. Magid appointed as defendant\\u2019s counsel. The court granted\\ncounsel\\u2019s request.\\n       In September 2022, defendant reached a global plea agreement resolving all three\\ncases for a stipulated upper term sentence of 15 years in state prison. The parties agreed\\nto amend the complaint in case No. 376 to strike the premeditation and deliberation\\nallegations; add a firearm enhancement under section 12022.4, subdivision (a) to count 1;\\nand added a stalking charge as count 4. The parties stipulated to the police reports for\\neach incident as the factual basis for his pleas.\\n       In case No. 376, defendant pleaded guilty/no contest to one amended count of\\nattempted murder (count 1) and one added count of stalking (\\u00a7 646.9, count 4); admitted\\nthe firearm enhancement added to count 1 (\\u00a7 12022.4, subd. (a)); and admitted being\\nreleased on bail or his own recognizance in case No. 348 and in case No. 1220 as to those\\noffenses (\\u00a7 12022.1). In case No. 348, defendant pleaded guilty/no contest to one count\\nof assault with a deadly weapon (count 1), which was amended to include all three\\nvictims, admitted that he personally used a deadly and dangerous weapon during the\\noffense (making the offense a strike), and pleaded no contest to residential burglary with\\na person present (count 5) as a strike offense (\\u00a7 667.5, subd. (c)(21)).\\n       We note that defendant checked the \\u201cguilty\\u201d box on his plea form. However,\\nduring the plea hearing, defendant orally pleaded \\u201cno contest\\u201d to count 1 (attempted\\nmurder) and \\u201cguilty\\u201d to count 4 (stalking) in case No. 376, and \\u201cno contest\\u201d to assault\\nwith a deadly weapon (count 1) and first-degree residential burglary (count 5) in case\\nNo. 348.\\n\\n\\n\\n                                               4\\n\\f       Under the terms of the agreement, after the completion of sentencing, all counts in\\ncase No. 1220 were to be dismissed with a Harvey waiver and any remaining counts in\\ncase No. 376 and case No. 348 would also be dismissed. Defendant stipulated to\\naggravating factors to support upper term sentences, including that there was a pattern of\\nviolence of increasing seriousness and that he was released on bail or his own\\nrecognizance at the time of the offenses.\\n       In October 2022, the trial court sentenced defendant to the stipulated 15-year term,\\nwhich included the upper term of nine years for the attempted murder offense, a\\nconsecutive upper term of three years for the attached firearm enhancement, consecutive\\nterms of one year each for the out on bail or own recognizance enhancements, and a\\nconcurrent term of two years for the stalking offense in case No. 376. The court\\nsentenced defendant to a consecutive one year (one third the midterm) for the assault with\\na deadly weapon conviction and a concurrent upper term of six years for the residential\\nburglary offense in case No. 348. The court also issued a criminal protective order under\\nsection 640.9, subdivision (k) in case No. 376.\\n       After imposing sentence, the trial court advised defendant that his incarceration\\nwould be followed by either three years post release community supervision under\\nsection 3450 or three years parole under section 3000, subdivision (b)(1).\\n       The court imposed a $300 restitution fine (\\u00a7 1202.4), and a $300 parole revocation\\nrestitution fine (\\u00a7 1202.45) in case No. 376 and case No. 348, which were suspended\\nunless parole was revoked, a $40 court security assessment per conviction (\\u00a7 1465.8), a\\n$30 criminal conviction assessment per conviction (Gov. Code, \\u00a7 70373), and a $10\\ncrime prevention fee plus penalty assessments (\\u00a7 1202.5) in case No. 348.\\n       In case No. 376, the court awarded 582 actual days of credit plus 86 days of\\nconduct credit for a total of 668 credit days. In case No. 348, the court awarded one\\nactual day of credit. At appellate counsel\\u2019s request pursuant to People v. Fares (1993)\\n\\n\\n\\n                                             5\\n\\f16 Cal.App.4th 954, the trial court corrected its credit calculation by awarding defendant\\ntwo additional days of credit in case No. 376.\\n       In February 2023, defendant submitted a pro. per. notice of appeal requesting a\\ncertificate of probable cause. This court granted defendant\\u2019s request for permission to\\nfile a notice of appeal under the constructive filing doctrine. The trial court then filed the\\nnotice of appeal without granting a certificate of probable cause in March 2023.\\n\\n                                        DISCUSSION\\n       We appointed counsel to represent defendant on appeal. Counsel filed an opening\\nbrief setting forth the facts of the case and requesting that this court review the record to\\ndetermine whether there are any arguable issues on appeal. (People v. Wende, supra,\\n25 Cal.3d 436.) Defendant was advised of his right to file a supplemental brief within 30\\ndays of the date of filing of the opening brief. More than 30 days elapsed, and we\\nreceived no communication from defendant.\\n       After examining the record, we have discovered a clerical error in the judgment.\\nThe parties contemplated dismissal of the remaining counts and enhancements after the\\nplea in case No. 376 and case No. 348 and dismissal with a Harvey waiver of all the\\ncounts in case No. 1220 as part of the plea agreement. The prosecutor stated that the\\nPeople would move to dismiss the remaining counts after sentencing was completed. The\\ntrial court, however, inadvertently failed to discuss or otherwise address dismissal of the\\nremaining charges in case No. 376, case No. 348, or case No. 1220 after sentencing\\ndefendant.\\n       As the \\u201ccourt may not proceed as to the plea other than as specified in the\\n[approved] plea\\u201d (\\u00a7 1192.5), it follows the trial court\\u2019s silence at the sentencing hearing\\nregarding dismissal of the remaining charges was not an exercise of judicial discretion\\nbut, rather, a clerical mistake in creating a record of the judgment. (In re Candelario\\n(1970) 3 Cal.3d 702, 705.) Accordingly, we will modify the judgment to reflect the\\n\\n\\n                                              6\\n\\fdismissal of counts 2 and 3 plus attached enhancements in case No. 376 as well as counts\\n2 through 4 plus attached enhancements in case No. 348 and all the charges in case\\nNo. 1220 as contemplated by the parties. Because the abstract of judgment properly\\nreflects defendant\\u2019s pleas to attempted murder and stalking in case No. 376 and to assault\\nwith a deadly weapon and residential burglary in case No. 348, and no other counts, the\\nabstract of judgment need not be amended in this regard.\\n       However, we have found two additional errors on the abstract of judgment that\\nrequire correction. The abstract reflects a $39 probation revocation restitution fine\\nimposed under section 12022.44 in case No. 348, which the trial court never orally\\nimposed. And, although the trial court imposed a $30 criminal conviction assessment for\\neach of defendant\\u2019s four convictions under Government Code section 70373, for a total\\nassessment of $120, the abstract erroneously reflects a $130 criminal conviction\\nassessment. \\u201cWhere there is a discrepancy between the oral pronouncement of judgment\\nand the minute order or the abstract of judgment, the oral pronouncement controls.\\u201d\\n(People v. Zackery (2007) 147 Cal.App.4th 380, 385, citing People v. Mitchell (2001)\\n26 Cal.4th 181, 185-186 [appellate court with jurisdiction can order correction of\\nabstracts of judgment that do not accurately reflect the oral judgments of sentencing\\ncourts].) We shall direct that the abstract be corrected accordingly.\\n       We find no other arguable error that would result in a disposition more favorable\\nto defendant.\\n                                       DISPOSITION\\n       The judgment is modified to dismiss count 2 and count 3 in case No. 376 and any\\nattached enhancements, counts 2 through 4 in case No. 348 as well as any attached\\nenhancements, and all charges in case No. 1220. As so modified, the judgment is\\naffirmed. The clerk of the superior court shall prepare a corrected abstract of judgment\\nthat deletes the $39 fine under section 12022.44 for case No. 348 and reflects a $120\\ncriminal conviction assessment pursuant to Government Code section 70373. The clerk\\n\\n                                             7\\n\\fshall forward a copy of the corrected abstract of judgment to the Department of\\nCorrections and Rehabilitation.\\n\\n\\n\\n\\n                                                  HULL, Acting P. J.\\n\\n\\n\\nWe concur:\\n\\n\\n\\n\\nMESIWALA, J.\\n\\n\\n\\n\\nWISEMAN, J.\\uf02a\\n\\n\\n\\n\\n\\uf02a Retired Associate Justice of the Court of Appeal, Fifth Appellate District, assigned by\\nthe Chief Justice pursuant to article VI, section 6 of the California Constitution.\\n\\n                                              8\\n\\f\"\n        ],\n        \"num_unique_values\": 398,\n        \"semantic_type\": \"\",\n        \"description\": \"\"\n      }\n    },\n    {\n      \"column\": \"label\",\n      \"properties\": {\n        \"dtype\": \"number\",\n        \"std\": 0,\n        \"min\": 0,\n        \"max\": 0,\n        \"samples\": [\n          0\n        ],\n        \"num_unique_values\": 1,\n        \"semantic_type\": \"\",\n        \"description\": \"\"\n      }\n    }\n  ]\n}"
            }
          },
          "metadata": {},
          "execution_count": 3
        }
      ]
    },
    {
      "cell_type": "code",
      "source": [
        "import nltk\n",
        "from nltk.corpus import stopwords\n",
        "from nltk.tokenize import word_tokenize\n",
        "from nltk.stem import WordNetLemmatizer\n",
        "import re\n",
        "import gensim\n",
        "\n",
        "# Download necessary NLTK resources\n",
        "nltk.download('punkt')\n",
        "nltk.download('stopwords')\n",
        "nltk.download('wordnet')\n",
        "\n",
        "# Set up stopwords and lemmatizer\n",
        "stop_words = set(stopwords.words('english'))\n",
        "lemmatizer = WordNetLemmatizer()\n",
        "\n",
        "# Define a function to clean the text\n",
        "def clean_text(text):\n",
        "    # Remove the word 'Citation' and any other unwanted patterns\n",
        "    text = re.sub(r'citation', '', text, flags=re.I)\n",
        "    # Remove punctuation and numbers\n",
        "    text = re.sub(r'[^A-Za-z\\s]', '', text)\n",
        "    # Remove additional whitespaces\n",
        "    text = re.sub(r'\\s+', ' ', text)\n",
        "    return text.strip().lower()\n",
        "\n",
        "# Define a function to preprocess text\n",
        "def preprocess_text(text):\n",
        "    # Tokenize\n",
        "    tokens = word_tokenize(text)\n",
        "    # Remove stopwords and lemmatize\n",
        "    tokens = [lemmatizer.lemmatize(word) for word in tokens if word not in stop_words and len(word) > 1]\n",
        "    return tokens\n",
        "\n",
        "# Clean the text\n",
        "df1['cleaned_text'] = df1['file'].apply(clean_text)\n",
        "\n",
        "# Preprocess the text\n",
        "df1['processed_text'] = df1['cleaned_text'].apply(preprocess_text)\n",
        "\n",
        "# Create Dictionary and Corpus\n",
        "dictionary = gensim.corpora.Dictionary(df1['processed_text'])\n",
        "corpus = [dictionary.doc2bow(text) for text in df1['processed_text']]\n",
        "\n",
        "# You can now run the LDA model using the corpus and dictionary\n",
        "# The plotting part should be done in a cell in Google Colab for visualization\n"
      ],
      "metadata": {
        "colab": {
          "base_uri": "https://localhost:8080/"
        },
        "id": "VPPDxiLjbSvq",
        "outputId": "26ae6075-0896-449c-8fd9-b67cb1d24048"
      },
      "execution_count": null,
      "outputs": [
        {
          "output_type": "stream",
          "name": "stderr",
          "text": [
            "[nltk_data] Downloading package punkt to /root/nltk_data...\n",
            "[nltk_data]   Unzipping tokenizers/punkt.zip.\n",
            "[nltk_data] Downloading package stopwords to /root/nltk_data...\n",
            "[nltk_data]   Unzipping corpora/stopwords.zip.\n",
            "[nltk_data] Downloading package wordnet to /root/nltk_data...\n"
          ]
        }
      ]
    },
    {
      "cell_type": "code",
      "source": [
        "df1['processed_text']"
      ],
      "metadata": {
        "colab": {
          "base_uri": "https://localhost:8080/"
        },
        "id": "Wll9WvV1fKqS",
        "outputId": "911ec940-5ba2-44b1-a335-90f1590584e5"
      },
      "execution_count": null,
      "outputs": [
        {
          "output_type": "execute_result",
          "data": {
            "text/plain": [
              "0      [dld, precedential, united, state, court, appe...\n",
              "1                                                     []\n",
              "2                                                     []\n",
              "3      [il, app, opinion, filed, january, appellate, ...\n",
              "4      [first, district, court, appeal, state, florid...\n",
              "                             ...                        \n",
              "395    [en, el, tribunal, supremo, de, puerto, rico, ...\n",
              "396    [en, el, tribunal, supremo, de, puerto, rico, ...\n",
              "397    [en, el, tribunal, supremo, de, puerto, rico, ...\n",
              "398    [supreme, court, state, wyoming, wy, october, ...\n",
              "399    [supreme, court, state, wyoming, wy, october, ...\n",
              "Name: processed_text, Length: 400, dtype: object"
            ]
          },
          "metadata": {},
          "execution_count": 5
        }
      ]
    },
    {
      "cell_type": "code",
      "source": [
        "df1.to_csv('data.txt', sep='\\t', index=False)"
      ],
      "metadata": {
        "id": "BH9FeAqNfVQ7"
      },
      "execution_count": null,
      "outputs": []
    },
    {
      "cell_type": "code",
      "source": [
        "import spacy\n",
        "import matplotlib.pyplot as plt\n",
        "from collections import Counter\n",
        "\n",
        "# Load spaCy's English model\n",
        "nlp = spacy.load('en_core_web_sm')\n",
        "\n",
        "# Process the document\n",
        "with open('data_chunk_3.txt', 'r') as file:\n",
        "    text = file.read()\n",
        "\n",
        "doc = nlp(text)\n",
        "\n",
        "# Count the POS tags\n",
        "pos_counts = Counter([token.pos_ for token in doc])\n",
        "\n",
        "# Sort the POS tags by count for plotting\n",
        "sorted_pos_counts = dict(sorted(pos_counts.items(), key=lambda item: item[1], reverse=True))\n",
        "\n",
        "# Plot\n",
        "plt.bar(sorted_pos_counts.keys(), sorted_pos_counts.values())\n",
        "plt.xlabel('POS tags')\n",
        "plt.ylabel('Frequency')\n",
        "plt.title('POS Tag Frequencies in Text Document')\n",
        "plt.xticks(rotation=90)  # Rotate the x labels so they don't overlap\n",
        "plt.show()\n"
      ],
      "metadata": {
        "colab": {
          "base_uri": "https://localhost:8080/",
          "height": 505
        },
        "id": "7y26u5hvoY88",
        "outputId": "7f50b11c-98f4-45c7-f341-90c60a5d699c"
      },
      "execution_count": null,
      "outputs": [
        {
          "output_type": "display_data",
          "data": {
            "text/plain": [
              "<Figure size 640x480 with 1 Axes>"
            ],
            "image/png": "[encoded data removed]"
          },
          "metadata": {}
        }
      ]
    },
    {
      "cell_type": "code",
      "source": [
        "!pip install textstat\n"
      ],
      "metadata": {
        "colab": {
          "base_uri": "https://localhost:8080/"
        },
        "id": "ZEUigI_wsXwK",
        "outputId": "22e27ecf-6b1b-485e-d451-265020140478"
      },
      "execution_count": null,
      "outputs": [
        {
          "output_type": "stream",
          "name": "stdout",
          "text": [
            "Collecting textstat\n",
            "  Downloading textstat-0.7.3-py3-none-any.whl (105 kB)\n",
            "\u001b[2K     \u001b[90m━━━━━━━━━━━━━━━━━━━━━━━━━━━━━━━━━━━━━━━━\u001b[0m \u001b[32m105.1/105.1 kB\u001b[0m \u001b[31m1.2 MB/s\u001b[0m eta \u001b[36m0:00:00\u001b[0m\n",
            "\u001b[?25hCollecting pyphen (from textstat)\n",
            "  Downloading pyphen-0.14.0-py3-none-any.whl (2.0 MB)\n",
            "\u001b[2K     \u001b[90m━━━━━━━━━━━━━━━━━━━━━━━━━━━━━━━━━━━━━━━━\u001b[0m \u001b[32m2.0/2.0 MB\u001b[0m \u001b[31m14.4 MB/s\u001b[0m eta \u001b[36m0:00:00\u001b[0m\n",
            "\u001b[?25hInstalling collected packages: pyphen, textstat\n",
            "Successfully installed pyphen-0.14.0 textstat-0.7.3\n"
          ]
        }
      ]
    },
    {
      "cell_type": "code",
      "source": [
        "import textstat\n"
      ],
      "metadata": {
        "id": "LXO4O5ucs_e4"
      },
      "execution_count": null,
      "outputs": []
    },
    {
      "cell_type": "code",
      "source": [
        "with open('data_human.txt', 'r') as file:\n",
        "    text = file.read()\n"
      ],
      "metadata": {
        "id": "kCcYhqXltBte"
      },
      "execution_count": null,
      "outputs": []
    },
    {
      "cell_type": "code",
      "source": [
        "flesch_reading_ease = textstat.flesch_reading_ease(text)\n",
        "smog_index = textstat.smog_index(text)\n",
        "flesch_kincaid_grade = textstat.flesch_kincaid_grade(text)\n",
        "coleman_liau_index = textstat.coleman_liau_index(text)\n",
        "automated_readability_index = textstat.automated_readability_index(text)\n",
        "dale_chall_readability_score = textstat.dale_chall_readability_score(text)\n",
        "difficult_words = textstat.difficult_words(text)\n",
        "linsear_write_formula = textstat.linsear_write_formula(text)\n",
        "gunning_fog = textstat.gunning_fog(text)\n",
        "text_standard = textstat.text_standard(text)\n",
        "\n",
        "# Print the results\n",
        "print(f\"Flesch Reading Ease: {flesch_reading_ease}\")\n",
        "print(f\"SMOG Index: {smog_index}\")\n",
        "print(f\"Flesch-Kincaid Grade: {flesch_kincaid_grade}\")\n",
        "print(f\"Coleman-Liau Index: {coleman_liau_index}\")\n",
        "print(f\"Automated Readability Index: {automated_readability_index}\")\n",
        "print(f\"Dale-Chall Readability Score: {dale_chall_readability_score}\")\n",
        "print(f\"Difficult Words: {difficult_words}\")\n",
        "print(f\"Linsear Write Formula: {linsear_write_formula}\")\n",
        "print(f\"Gunning Fog: {gunning_fog}\")\n",
        "print(f\"Text Standard: {text_standard}\")\n"
      ],
      "metadata": {
        "colab": {
          "base_uri": "https://localhost:8080/"
        },
        "id": "CkKha-B3tHTN",
        "outputId": "589caafd-744d-4736-f139-e3123fad79de"
      },
      "execution_count": null,
      "outputs": [
        {
          "output_type": "stream",
          "name": "stdout",
          "text": [
            "Flesch Reading Ease: 20.08\n",
            "SMOG Index: 19.2\n",
            "Flesch-Kincaid Grade: 21.0\n",
            "Coleman-Liau Index: 14.64\n",
            "Automated Readability Index: 28.5\n",
            "Dale-Chall Readability Score: 2.44\n",
            "Difficult Words: 35814\n",
            "Linsear Write Formula: 7.125\n",
            "Gunning Fog: 17.2\n",
            "Text Standard: 20th and 21st grade\n"
          ]
        }
      ]
    },
    {
      "cell_type": "code",
      "source": [
        "import matplotlib.pyplot as plt\n",
        "import textstat\n",
        "\n",
        "# Let's assume 'text' contains your document text\n",
        "with open('data_human.txt', 'r') as file:\n",
        "    text = file.read()\n",
        "\n",
        "# Calculate various readability scores\n",
        "scores = {\n",
        "    'Flesch Reading Ease': textstat.flesch_reading_ease(text),\n",
        "    'SMOG Index': textstat.smog_index(text),\n",
        "    'Flesch-Kincaid Grade': textstat.flesch_kincaid_grade(text),\n",
        "    'Coleman-Liau Index': textstat.coleman_liau_index(text),\n",
        "    'Automated Readability Index': textstat.automated_readability_index(text),\n",
        "    'Dale-Chall Readability Score': textstat.dale_chall_readability_score(text),\n",
        "    'Gunning Fog': textstat.gunning_fog(text)\n",
        "}\n",
        "\n",
        "# Create bar plot\n",
        "plt.figure(figsize=(10, 6))\n",
        "plt.barh(list(scores.keys()), list(scores.values()), color='skyblue')\n",
        "plt.xlabel('Scores')\n",
        "plt.title('Readability Scores for Human Data')\n",
        "plt.xlim(0, 35)\n",
        "plt.gca().invert_yaxis()  # To display the highest score at the top\n",
        "plt.show()\n"
      ],
      "metadata": {
        "id": "GJkK3i2MwptL",
        "colab": {
          "base_uri": "https://localhost:8080/",
          "height": 564
        },
        "outputId": "af7c68ad-a25b-4693-b55b-9d2dc2ded2a7"
      },
      "execution_count": null,
      "outputs": [
        {
          "output_type": "display_data",
          "data": {
            "text/plain": [
              "<Figure size 1000x600 with 1 Axes>"
            ],
            "image/png": "[encoded data removed]"
          },
          "metadata": {}
        }
      ]
    }
  ]
}